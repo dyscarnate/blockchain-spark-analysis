{
 "cells": [
  {
   "cell_type": "code",
   "execution_count": 1,
   "id": "9a532935-47e0-482a-a3ec-3be3427d2e0c",
   "metadata": {},
   "outputs": [
    {
     "name": "stderr",
     "output_type": "stream",
     "text": [
      "25/03/13 23:06:13 WARN Utils: Your hostname, dyscarnate-B550M-HDV-AR resolves to a loopback address: 127.0.1.1; using 192.168.0.105 instead (on interface enp4s0)\n",
      "25/03/13 23:06:13 WARN Utils: Set SPARK_LOCAL_IP if you need to bind to another address\n",
      "Setting default log level to \"WARN\".\n",
      "To adjust logging level use sc.setLogLevel(newLevel). For SparkR, use setLogLevel(newLevel).\n",
      "25/03/13 23:06:14 WARN NativeCodeLoader: Unable to load native-hadoop library for your platform... using builtin-java classes where applicable\n"
     ]
    }
   ],
   "source": [
    "from pyspark.sql import SparkSession\n",
    "spark = SparkSession.builder \\\n",
    "    .appName(\"MyApp\") \\\n",
    "    .getOrCreate()"
   ]
  },
  {
   "cell_type": "code",
   "execution_count": 2,
   "id": "04b370d3-c59c-4e9f-a7e8-42c62ac28198",
   "metadata": {},
   "outputs": [
    {
     "name": "stdout",
     "output_type": "stream",
     "text": [
      "True\n",
      "tensor([[0.8651, 0.6508, 0.9878,  ..., 0.3858, 0.3718, 0.7457],\n",
      "        [0.4397, 0.6740, 0.2449,  ..., 0.4011, 0.1564, 0.7950],\n",
      "        [0.1354, 0.7893, 0.8328,  ..., 0.6974, 0.7883, 0.2519],\n",
      "        ...,\n",
      "        [0.7162, 0.4057, 0.4703,  ..., 0.2979, 0.6504, 0.4265],\n",
      "        [0.7961, 0.4859, 0.1492,  ..., 0.1046, 0.3821, 0.5269],\n",
      "        [0.1751, 0.1589, 0.8833,  ..., 0.4553, 0.3723, 0.4214]],\n",
      "       device='cuda:0')\n"
     ]
    }
   ],
   "source": [
    "import torch\n",
    "print(torch.cuda.is_available())\n",
    "x = torch.rand(1000, 1000).cuda()\n",
    "print(x)"
   ]
  },
  {
   "cell_type": "code",
   "execution_count": 3,
   "id": "75e190f6-dac4-452a-86b6-1f8e0ca6a876",
   "metadata": {},
   "outputs": [],
   "source": [
    "import cryo"
   ]
  },
  {
   "cell_type": "code",
   "execution_count": null,
   "id": "b7aa10a3-f28a-4e93-9b56-cd15889155b1",
   "metadata": {},
   "outputs": [],
   "source": []
  }
 ],
 "metadata": {
  "kernelspec": {
   "display_name": "Python 3 (ipykernel)",
   "language": "python",
   "name": "python3"
  },
  "language_info": {
   "codemirror_mode": {
    "name": "ipython",
    "version": 3
   },
   "file_extension": ".py",
   "mimetype": "text/x-python",
   "name": "python",
   "nbconvert_exporter": "python",
   "pygments_lexer": "ipython3",
   "version": "3.9.21"
  }
 },
 "nbformat": 4,
 "nbformat_minor": 5
}
