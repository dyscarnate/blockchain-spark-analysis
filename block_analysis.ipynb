{
 "cells": [
  {
   "cell_type": "code",
   "execution_count": 2,
   "id": "9a532935-47e0-482a-a3ec-3be3427d2e0c",
   "metadata": {},
   "outputs": [],
   "source": [
    "from pyspark.sql import SparkSession\n",
    "from pyspark.sql.functions import col, lag, unix_timestamp, avg, min, max, median\n",
    "from pyspark.sql.window import Window\n"
   ]
  },
  {
   "cell_type": "code",
   "execution_count": 3,
   "id": "ae7315b3-dc63-4a72-adf4-e3ced41acb26",
   "metadata": {},
   "outputs": [
    {
     "name": "stderr",
     "output_type": "stream",
     "text": [
      "25/06/19 14:25:41 WARN Utils: Your hostname, dyscarnate-B550M-HDV-AR resolves to a loopback address: 127.0.1.1; using 192.168.0.105 instead (on interface enp4s0)\n",
      "25/06/19 14:25:41 WARN Utils: Set SPARK_LOCAL_IP if you need to bind to another address\n",
      "Setting default log level to \"WARN\".\n",
      "To adjust logging level use sc.setLogLevel(newLevel). For SparkR, use setLogLevel(newLevel).\n",
      "25/06/19 14:25:41 WARN NativeCodeLoader: Unable to load native-hadoop library for your platform... using builtin-java classes where applicable\n",
      "Setting Spark log level to \"ERROR\".\n"
     ]
    }
   ],
   "source": [
    "spark = SparkSession.builder \\\n",
    "    .appName(\"MyApp\") \\\n",
    "    .config(\"spark.driver.memory\", \"10G\") \\\n",
    "    .config(\"spark.executor.memory\", \"10G\") \\\n",
    "    .config(\"spark.log.level\", \"ERROR\").getOrCreate()"
   ]
  },
  {
   "cell_type": "code",
   "execution_count": 4,
   "id": "2736108b-ea0e-4482-afba-89b537746284",
   "metadata": {
    "scrolled": true
   },
   "outputs": [
    {
     "name": "stderr",
     "output_type": "stream",
     "text": [
      "                                                                                "
     ]
    }
   ],
   "source": [
    "data_path = \"/samsung/data/transactions\"\n",
    "df = spark.read.parquet(data_path)"
   ]
  },
  {
   "cell_type": "code",
   "execution_count": 5,
   "id": "6bdfea8f-3491-42d9-ab0c-b1925fe75087",
   "metadata": {},
   "outputs": [
    {
     "name": "stdout",
     "output_type": "stream",
     "text": [
      "root\n",
      " |-- block_number: long (nullable = true)\n",
      " |-- transaction_index: decimal(20,0) (nullable = true)\n",
      " |-- transaction_hash: binary (nullable = true)\n",
      " |-- nonce: decimal(20,0) (nullable = true)\n",
      " |-- from_address: binary (nullable = true)\n",
      " |-- to_address: binary (nullable = true)\n",
      " |-- value_binary: binary (nullable = true)\n",
      " |-- value_string: string (nullable = true)\n",
      " |-- value_f64: double (nullable = true)\n",
      " |-- input: binary (nullable = true)\n",
      " |-- gas_limit: decimal(20,0) (nullable = true)\n",
      " |-- gas_used: decimal(20,0) (nullable = true)\n",
      " |-- gas_price: decimal(20,0) (nullable = true)\n",
      " |-- transaction_type: long (nullable = true)\n",
      " |-- max_priority_fee_per_gas: decimal(20,0) (nullable = true)\n",
      " |-- max_fee_per_gas: decimal(20,0) (nullable = true)\n",
      " |-- success: boolean (nullable = true)\n",
      " |-- n_input_bytes: long (nullable = true)\n",
      " |-- n_input_zero_bytes: long (nullable = true)\n",
      " |-- n_input_nonzero_bytes: long (nullable = true)\n",
      " |-- chain_id: decimal(20,0) (nullable = true)\n",
      "\n"
     ]
    }
   ],
   "source": [
    "df.printSchema()  "
   ]
  },
  {
   "cell_type": "code",
   "execution_count": 6,
   "id": "d97f4e7f-4a76-4cc4-8551-a0b3eb57d28d",
   "metadata": {},
   "outputs": [
    {
     "name": "stderr",
     "output_type": "stream",
     "text": [
      "                                                                                "
     ]
    },
    {
     "data": {
      "text/plain": [
       "13577002"
      ]
     },
     "execution_count": 6,
     "metadata": {},
     "output_type": "execute_result"
    }
   ],
   "source": [
    "from pyspark.sql.functions import count\n",
    "df.count()"
   ]
  },
  {
   "cell_type": "code",
   "execution_count": 7,
   "id": "1219e280-4c45-495b-9af0-ec6b9373dde0",
   "metadata": {},
   "outputs": [],
   "source": [
    "#Преобразование данных\n",
    "from pyspark.sql.functions import col, sha2, hex\n",
    "\n",
    "df = df.withColumn(\"from_address\", hex(col(\"from_address\"))) \\\n",
    "       .withColumn(\"to_address\", hex(col(\"to_address\"))) \\\n",
    "       .withColumn(\"transaction_hash\", hex(col(\"transaction_hash\")))"
   ]
  },
  {
   "cell_type": "code",
   "execution_count": 8,
   "id": "54ef3eba-92d4-4b50-b834-b0886ff50b37",
   "metadata": {},
   "outputs": [
    {
     "name": "stderr",
     "output_type": "stream",
     "text": [
      "                                                                                "
     ]
    },
    {
     "name": "stdout",
     "output_type": "stream",
     "text": [
      "+------------+-----+\n",
      "|block_number|count|\n",
      "+------------+-----+\n",
      "|21289505    |1179 |\n",
      "|21313704    |1089 |\n",
      "|21268920    |1064 |\n",
      "|21298241    |941  |\n",
      "|21298407    |911  |\n",
      "|21275775    |905  |\n",
      "|21195831    |884  |\n",
      "|21289528    |852  |\n",
      "|21298229    |842  |\n",
      "|21261819    |782  |\n",
      "+------------+-----+\n",
      "\n"
     ]
    }
   ],
   "source": [
    "#Число транзакций в блоке\n",
    "df.groupBy(\"block_number\") \\\n",
    "  .count() \\\n",
    "  .orderBy(\"count\", ascending=False) \\\n",
    "  .limit(10) \\\n",
    "  .show(truncate=False)"
   ]
  },
  {
   "cell_type": "code",
   "execution_count": 9,
   "id": "4de4c554-dd63-4672-8be4-f03aa39562de",
   "metadata": {},
   "outputs": [
    {
     "name": "stderr",
     "output_type": "stream",
     "text": [
      "[Stage 7:====================================================>    (24 + 2) / 26]"
     ]
    },
    {
     "name": "stdout",
     "output_type": "stream",
     "text": [
      "+----------------------------------------+---------------------+----------------------+-----------------+\n",
      "|from_address                            |total_sent           |avg_sent              |transaction_count|\n",
      "+----------------------------------------+---------------------+----------------------+-----------------+\n",
      "|B5D85CBF7CB3EE0D56B3BB207D5FC4B82F43F511|1.1884602194080316E24|9.34257968703497E18   |127209           |\n",
      "|46340B20830761EFD32832A74D7169B29FEB9758|1.3843707956797248E23|1.10871178465976691E18|124863           |\n",
      "|F89D7B9C864F589BBF53A82105107622B35EAA40|3.035837175996922E23 |2.7497528857622205E18 |110404           |\n",
      "|28C6C06298D514DB089934071355E5743BF21D60|2.1174667398334908E24|2.000516542744639E19  |105846           |\n",
      "|DFD5293D8E347DFE59E90EFD55B2956A1343963D|3.141719632204998E23 |3.1700599683217951E18 |99106            |\n",
      "|21A31EE1AFC51D94C2EFCCAA2092AD1028285549|3.433369601589801E23 |3.4944170677636316E18 |98253            |\n",
      "|0D0707963952F2FBA59DD06F2B425ACE40B492FE|6.996148196582106E22 |1.07064782256976141E18|65345            |\n",
      "|264BD8291FAE1D75DB2C5F573B07FAA6715997B5|1.0953627849929777E22|1.89982445017513824E17|57656            |\n",
      "|974CAA59E49682CDA0AD2BBE82983419A2ECC400|3.2081942577370666E22|5.7154461942155392E17 |56132            |\n",
      "|9642B23ED1E01DF1092B92641051881A322F5D4E|3.455077263902348E22 |6.206019549696169E17  |55673            |\n",
      "+----------------------------------------+---------------------+----------------------+-----------------+\n",
      "\n"
     ]
    },
    {
     "name": "stderr",
     "output_type": "stream",
     "text": [
      "                                                                                "
     ]
    }
   ],
   "source": [
    "# Топ отправителей по объему (value_f64)\n",
    "from pyspark.sql.functions import sum, avg, max, min\n",
    "\n",
    "df.groupBy(\"from_address\") \\\n",
    "  .agg(sum(\"value_f64\").alias(\"total_sent\"), \n",
    "       avg(\"value_f64\").alias(\"avg_sent\"),\n",
    "       count(\"*\").alias(\"transaction_count\")) \\\n",
    "  .orderBy(\"transaction_count\", ascending=False) \\\n",
    "  .limit(10) \\\n",
    "  .show(truncate=False)"
   ]
  },
  {
   "cell_type": "code",
   "execution_count": 10,
   "id": "66446384-8c90-4e0e-a7c2-20ba356ad39c",
   "metadata": {},
   "outputs": [
    {
     "name": "stderr",
     "output_type": "stream",
     "text": [
      "[Stage 10:=================================================>      (23 + 3) / 26]"
     ]
    },
    {
     "name": "stdout",
     "output_type": "stream",
     "text": [
      "+----------------------------------------+---------------------+\n",
      "|to_address                              |total_received       |\n",
      "+----------------------------------------+---------------------+\n",
      "|28C6C06298D514DB089934071355E5743BF21D60|2.211588073311635E24 |\n",
      "|A9D1E08C7793AF67E9D92FE308D5697FB81D3E43|1.1973427220088355E24|\n",
      "|B5D85CBF7CB3EE0D56B3BB207D5FC4B82F43F511|1.1521026947300787E24|\n",
      "|EAE7380DD4CEF6FBD1144F49E4D1E6964258A4F4|4.2478679083094E23   |\n",
      "|CD531AE9EFCCE479654C4926DEC5F6209531CA7B|4.072977473848594E23 |\n",
      "|DFD5293D8E347DFE59E90EFD55B2956A1343963D|3.926530268196257E23 |\n",
      "|DBF5E9C5206D0DB70A90108BF936DA60221DC080|3.8410999939865993E23|\n",
      "|21A31EE1AFC51D94C2EFCCAA2092AD1028285549|3.754475770492716E23 |\n",
      "|77134CBC06CB00B66F4C7E623D5FDBF6777635EC|3.6982387204511E23   |\n",
      "|CEB69F6342ECE283B2F5C9088FF249B5D0AE66EA|3.684533194714802E23 |\n",
      "+----------------------------------------+---------------------+\n",
      "\n"
     ]
    },
    {
     "name": "stderr",
     "output_type": "stream",
     "text": [
      "                                                                                "
     ]
    }
   ],
   "source": [
    "# Топ получателей\n",
    "df.groupBy(\"to_address\") \\\n",
    "  .agg(sum(\"value_f64\").alias(\"total_received\")) \\\n",
    "  .orderBy(\"total_received\", ascending=False) \\\n",
    "  .limit(10) \\\n",
    "  .show(truncate=False)"
   ]
  },
  {
   "cell_type": "code",
   "execution_count": 64,
   "id": "191c5f97-5f6e-4ba9-b6cd-592babae65fe",
   "metadata": {},
   "outputs": [],
   "source": [
    "from pyspark.sql import functions as F\n",
    "from pyspark.sql.window import Window\n",
    "from pyspark.sql.functions import col, hex, when, countDistinct\n",
    "# 1. Агрегация по адресам\n",
    "address_features = df.groupBy(\"from_address\").agg(\n",
    "    F.count(\"*\").alias(\"outgoing_tx_count\"),\n",
    "    F.mean(\"value_f64\").alias(\"avg_outgoing_value\"),\n",
    "    F.sum(when(col(\"success\") == False, 1).otherwise(0)).alias(\"failed_tx_count\"),\n",
    "    countDistinct(\"to_address\").alias(\"unique_recipients\"),\n",
    "    F.sum(\"n_input_nonzero_bytes\").alias(\"contract_interactions\")\n",
    ")\n"
   ]
  },
  {
   "cell_type": "code",
   "execution_count": 65,
   "id": "98dddcfe-7510-4119-9aeb-a4d0c0ae821d",
   "metadata": {},
   "outputs": [],
   "source": [
    "# 2. Временные признаки\n",
    "window_spec = Window.partitionBy(\"from_address\").orderBy(\"block_number\")\n",
    "\n",
    "time_features = df.withColumn(\"prev_block\", F.lag(\"block_number\").over(window_spec)) \\\n",
    "                 .withColumn(\"block_diff\", col(\"block_number\") - col(\"prev_block\")) \\\n",
    "                 .groupBy(\"from_address\").agg(\n",
    "                     F.expr(\"percentile_approx(block_diff, 0.5)\").alias(\"median_time_between_tx\"),\n",
    "                     F.min(\"block_number\").alias(\"first_block\"),\n",
    "                     F.max(\"block_number\").alias(\"last_block\")\n",
    "                 )"
   ]
  },
  {
   "cell_type": "code",
   "execution_count": 66,
   "id": "631128b2-80fe-4e3f-a859-1371b7746933",
   "metadata": {},
   "outputs": [],
   "source": [
    "# 3. Признаки активности по скользящим окнам\n",
    "block_window_1h = Window.partitionBy(\"from_address\") \\\n",
    "                       .orderBy(\"block_number\") \\\n",
    "                       .rangeBetween(-60, 0)  # Предположим 1 блок = 1 минута\n",
    "\n",
    "\n",
    "activity_features = df.withColumn(\"tx_last_hour\", F.count(\"*\").over(block_window_1h)) \\\n",
    "                     .groupBy(\"from_address\").agg(\n",
    "                         F.mean(\"tx_last_hour\").alias(\"avg_hourly_activity\"),\n",
    "                         F.stddev(\"tx_last_hour\").alias(\"std_hourly_activity\")\n",
    "                     )"
   ]
  },
  {
   "cell_type": "code",
   "execution_count": 67,
   "id": "a3189949-131b-4fda-b06e-9ef816a947f0",
   "metadata": {},
   "outputs": [],
   "source": [
    "# 4. Объединение всех признаков\n",
    "final_features = address_features.join(time_features, \"from_address\", \"left\") \\\n",
    "                                .join(activity_features, \"from_address\", \"left\") \\\n",
    "                                .withColumn(\"activity_ratio\", col(\"avg_hourly_activity\") / col(\"outgoing_tx_count\"))"
   ]
  },
  {
   "cell_type": "code",
   "execution_count": 68,
   "id": "20c2ec7c-297c-4151-a779-84199156a0a2",
   "metadata": {},
   "outputs": [],
   "source": [
    "# 5. Газовые метрики\n",
    "gas_metrics = df.withColumn(\"tx_fee\", col(\"gas_used\") * col(\"gas_price\")) \\\n",
    "               .groupBy(\"from_address\").agg(\n",
    "                   F.mean(\"tx_fee\").alias(\"avg_tx_fee\"),\n",
    "                   F.sum(\"tx_fee\").alias(\"total_tx_fee\")\n",
    "               )\n",
    "\n",
    "final_features = final_features.join(gas_metrics, \"from_address\", \"left\")"
   ]
  },
  {
   "cell_type": "code",
   "execution_count": 69,
   "id": "771824ea-6a22-4570-a244-a682da706dbb",
   "metadata": {},
   "outputs": [],
   "source": [
    "# 8. Временные аномалии\n",
    "spike_window = Window.partitionBy(\"from_address\") \\\n",
    "                   .orderBy(\"block_number\") \\\n",
    "                   .rowsBetween(-10, 0)\n",
    "\n",
    "spike_detection = df.withColumn(\"rolling_avg\", F.avg(\"value_f64\").over(spike_window)) \\\n",
    "                   .withColumn(\"value_spike\", \n",
    "                              when(col(\"value_f64\") > 2 * col(\"rolling_avg\"), 1).otherwise(0)) \\\n",
    "                   .groupBy(\"from_address\").agg(\n",
    "                       F.sum(\"value_spike\").alias(\"value_spikes\")\n",
    "                   )\n",
    "\n",
    "final_features = final_features.join(spike_detection, \"from_address\", \"left\")"
   ]
  },
  {
   "cell_type": "code",
   "execution_count": 70,
   "id": "d413c47d-29ce-4559-b32c-74f9d1989727",
   "metadata": {},
   "outputs": [
    {
     "name": "stdout",
     "output_type": "stream",
     "text": [
      "root\n",
      " |-- from_address: string (nullable = true)\n",
      " |-- outgoing_tx_count: long (nullable = false)\n",
      " |-- avg_outgoing_value: double (nullable = true)\n",
      " |-- failed_tx_count: long (nullable = true)\n",
      " |-- unique_recipients: long (nullable = false)\n",
      " |-- contract_interactions: long (nullable = true)\n",
      " |-- median_time_between_tx: long (nullable = true)\n",
      " |-- first_block: long (nullable = true)\n",
      " |-- last_block: long (nullable = true)\n",
      " |-- avg_hourly_activity: double (nullable = true)\n",
      " |-- std_hourly_activity: double (nullable = true)\n",
      " |-- activity_ratio: double (nullable = true)\n",
      " |-- avg_tx_fee: decimal(38,4) (nullable = true)\n",
      " |-- total_tx_fee: decimal(38,0) (nullable = true)\n",
      " |-- value_spikes: long (nullable = true)\n",
      "\n"
     ]
    }
   ],
   "source": [
    "final_features.printSchema()"
   ]
  },
  {
   "cell_type": "code",
   "execution_count": 71,
   "id": "4718b9ea-9ef6-4855-b65c-2577262fcee3",
   "metadata": {},
   "outputs": [
    {
     "name": "stderr",
     "output_type": "stream",
     "text": [
      "                                                                                "
     ]
    },
    {
     "data": {
      "text/plain": [
       "[Row(from_address='0340E6C62D8545E1098A73086A285FD03B4E0400', outgoing_tx_count=1, avg_outgoing_value=0.0, failed_tx_count=0, unique_recipients=1, contract_interactions=32, median_time_between_tx=None, first_block=21321355, last_block=21321355, avg_hourly_activity=1.0, std_hourly_activity=None, activity_ratio=1.0, avg_tx_fee=Decimal('684993560537530.0000'), total_tx_fee=Decimal('684993560537530'), value_spikes=0),\n",
       " Row(from_address='2BC9A3F047D4C974BB76CC3FB7751347FC6E3814', outgoing_tx_count=5, avg_outgoing_value=3.72e+16, failed_tx_count=0, unique_recipients=2, contract_interactions=403, median_time_between_tx=13, first_block=21246325, last_block=21253599, avg_hourly_activity=1.6, std_hourly_activity=0.8944271909999159, activity_ratio=0.32, avg_tx_fee=Decimal('1618369271430997.4000'), total_tx_fee=Decimal('8091846357154987'), value_spikes=1),\n",
       " Row(from_address='3165650B186B3BBB43562B7AD14D11596F9BB3F5', outgoing_tx_count=2, avg_outgoing_value=7215302485294712.0, failed_tx_count=0, unique_recipients=2, contract_interactions=35, median_time_between_tx=477, first_block=21229819, last_block=21230296, avg_hourly_activity=1.0, std_hourly_activity=0.0, activity_ratio=0.5, avg_tx_fee=Decimal('723631717446577.0000'), total_tx_fee=Decimal('1447263434893154'), value_spikes=0),\n",
       " Row(from_address='88FE5FB5F74753C84350F33F9BA755782585BC13', outgoing_tx_count=31, avg_outgoing_value=8.816129032258064e+16, failed_tx_count=1, unique_recipients=9, contract_interactions=4215, median_time_between_tx=55, first_block=21063242, last_block=21295027, avg_hourly_activity=1.967741935483871, std_hourly_activity=0.8749807985604384, activity_ratio=0.06347554630593132, avg_tx_fee=Decimal('2581343579227770.2258'), total_tx_fee=Decimal('80021650956060877'), value_spikes=3),\n",
       " Row(from_address='92C5F3597BD728ED4C5386FF0AD61B24875C9A79', outgoing_tx_count=1, avg_outgoing_value=5e+17, failed_tx_count=0, unique_recipients=1, contract_interactions=5, median_time_between_tx=None, first_block=21246270, last_block=21246270, avg_hourly_activity=1.0, std_hourly_activity=None, activity_ratio=1.0, avg_tx_fee=Decimal('3672608755908104.0000'), total_tx_fee=Decimal('3672608755908104'), value_spikes=0)]"
      ]
     },
     "execution_count": 71,
     "metadata": {},
     "output_type": "execute_result"
    }
   ],
   "source": [
    "final_features.head(5)"
   ]
  },
  {
   "cell_type": "code",
   "execution_count": 124,
   "id": "d5d9e110-5310-4f03-b50b-f81913833bbc",
   "metadata": {},
   "outputs": [],
   "source": [
    "import builtins\n",
    "from pyspark.sql import DataFrame, functions as F\n",
    "\n",
    "\n",
    "def apply_fraud_rules(df: DataFrame, tx_df: DataFrame) -> DataFrame:\n",
    "    \"\"\"\n",
    "    Apply rule-based anti-fraud heuristics to blockchain addresses.\n",
    "    \"\"\"\n",
    "    # ----------------------------------------\n",
    "    # 1. Ping-pong detection\n",
    "    # ----------------------------------------\n",
    "    tx_pairs = (\n",
    "        tx_df\n",
    "        .withColumn(\"addr1\", F.least(\"from_address\", \"to_address\"))\n",
    "        .withColumn(\"addr2\", F.greatest(\"from_address\", \"to_address\"))\n",
    "    )\n",
    "    pingpong_counts = (\n",
    "        tx_pairs\n",
    "        .groupBy(\"addr1\", \"addr2\")\n",
    "        .agg(\n",
    "            F.count(\"*\").alias(\"tx_count\"),\n",
    "            F.avg(\"value_f64\").alias(\"avg_value\")\n",
    "        )\n",
    "        .cache()\n",
    "    )\n",
    "    pingpong_counts.count()  # materialize\n",
    "\n",
    "    q95 = pingpong_counts.approxQuantile(\"tx_count\", [0.95], 0.01)[0] or 0\n",
    "    pingpong_threshold = q95 if q95 > 10 else 10\n",
    "    pingpong_pairs = pingpong_counts.filter(\n",
    "        (F.col(\"tx_count\") > pingpong_threshold) &\n",
    "        (F.col(\"avg_value\") < 1e18)\n",
    "    )\n",
    "    pingpong_addresses = (\n",
    "        pingpong_pairs.select(F.col(\"addr1\").alias(\"from_address\"))\n",
    "        .union(pingpong_pairs.select(F.col(\"addr2\").alias(\"from_address\")))\n",
    "        .distinct()\n",
    "        .withColumn(\"pingpong\", F.lit(1))\n",
    "    )\n",
    "    df = df.join(pingpong_addresses, on=\"from_address\", how=\"left\").fillna({\"pingpong\": 0})\n",
    "\n",
    "    # ----------------------------------------\n",
    "    # Helper for dynamic quantiles\n",
    "    def safe_quantile(frame: DataFrame, col: str, prob: float, default: float = 0.0) -> float:\n",
    "        arr = frame.approxQuantile(col, [prob], 0.01)\n",
    "        return arr[0] if arr and arr[0] is not None else default\n",
    "\n",
    "    # ----------------------------------------\n",
    "    # 2. Contracts & low activity (AND)\n",
    "    contract_q = safe_quantile(df, \"contract_interactions\", 0.75)\n",
    "    c_thresh = contract_q * 0.5 if contract_q > 0 else 5\n",
    "    activity_q = safe_quantile(df, \"avg_hourly_activity\", 0.25)\n",
    "    a_thresh = activity_q * 1.5\n",
    "    df = df.withColumn(\n",
    "        \"contracts_and_low_activity\",\n",
    "        F.when(\n",
    "            (F.col(\"contract_interactions\") > c_thresh) &\n",
    "            (F.col(\"avg_hourly_activity\") < a_thresh),\n",
    "            1\n",
    "        ).otherwise(0)\n",
    "    )\n",
    "\n",
    "\n",
    "    # ----------------------------------------\n",
    "    # 3. High fees\n",
    "    fee_q = safe_quantile(df, \"avg_tx_fee\", 0.90)\n",
    "    df = df.withColumn(\n",
    "        \"high_fee\",\n",
    "        F.when(\n",
    "            (F.col(\"avg_tx_fee\") > fee_q) &\n",
    "            (F.col(\"avg_tx_fee\") > F.col(\"avg_outgoing_value\") * 0.1),\n",
    "            1\n",
    "        ).otherwise(0)\n",
    "    )\n",
    "\n",
    "    # ----------------------------------------\n",
    "    # 4. Short time between txs\n",
    "    time_q = safe_quantile(df, \"median_time_between_tx\", 0.10)\n",
    "    df = df.withColumn(\n",
    "        \"short_time_between_tx\",\n",
    "        F.when(\n",
    "            (F.col(\"median_time_between_tx\") < time_q) &\n",
    "            (F.col(\"outgoing_tx_count\") > 5),\n",
    "            1\n",
    "        ).otherwise(0)\n",
    "    )\n",
    "\n",
    "    # ----------------------------------------\n",
    "    # 5. Value spikes flag\n",
    "    df = df.withColumn(\n",
    "        \"value_spikes\",\n",
    "        F.when(F.col(\"value_spikes\") > 0, 1).otherwise(0)\n",
    "    )\n",
    "\n",
    "    # ----------------------------------------\n",
    "    # 6. Fraud score\n",
    "    weights = {\n",
    "        \"contracts_and_low_activity\": 2.0,\n",
    "        \"high_fee\": 1.0,\n",
    "        \"short_time_between_tx\": 1.5,\n",
    "        \"value_spikes\": 1.8,\n",
    "        \"pingpong\": 2.5\n",
    "    }\n",
    "    total_weight = builtins.sum(weights.values())\n",
    "    expr = None\n",
    "    for col, w in weights.items():\n",
    "        term = F.col(col) * w\n",
    "        expr = term if expr is None else expr + term\n",
    "    fraud_expr = (expr / total_weight) * 100\n",
    "    df = df.withColumn(\"fraud_score\", F.round(fraud_expr, 2))\n",
    "\n",
    "    return df.select(\"from_address\", *weights.keys(), \"fraud_score\")\n"
   ]
  },
  {
   "cell_type": "code",
   "execution_count": 125,
   "id": "2fbbbf93-c6ff-42c7-8068-210379f98594",
   "metadata": {},
   "outputs": [
    {
     "name": "stderr",
     "output_type": "stream",
     "text": [
      "[Stage 1194:>                                                       (0 + 1) / 1]"
     ]
    },
    {
     "name": "stdout",
     "output_type": "stream",
     "text": [
      "+----------------------------------------+-----------+\n",
      "|from_address                            |fraud_score|\n",
      "+----------------------------------------+-----------+\n",
      "|02DF204B39F0F208952BE8AF9FE558670BC7F36B|0.0        |\n",
      "|08041EF3F195E0FB1869DA734C0E49022FF39C54|0.0        |\n",
      "|1D14995484498933615052D065D608D8739334F4|20.45      |\n",
      "|3F78D1E01140EFA61526067F375EF4A51F1237B2|0.0        |\n",
      "|41F561D6390D52BB3D3A8526A29C7FA47BCABAF8|48.86      |\n",
      "|55053761908CE16A3C0B83A339637C59983D9B5F|0.0        |\n",
      "|57A41ACF802D3F8CF90836A3CB5FF0186B98FEBE|43.18      |\n",
      "|5BCBDFB6CC624B959C39A2D16110D1F2D9204F72|48.86      |\n",
      "|7956D4ADC43F09CA095301497F2BBCF93DD6E60D|22.73      |\n",
      "|8BC110DB7029197C3621BEA8092AB1996D5DD7BE|48.86      |\n",
      "|90CA059088CBB382B07FB944659E4EA5C3AF3DAB|0.0        |\n",
      "|95AA3610C2A86B9FAF3742119D1BD10B618D6232|11.36      |\n",
      "|9E843B8BD8CB41E0D247161B289F43A298672681|0.0        |\n",
      "|AC024B7FDF80C2A949619A2543F4EC8F1B48C7E0|71.59      |\n",
      "|AF250A2CE28F6E13B01CF5534B15A19A7922D7BC|62.5       |\n",
      "|B2BABEE1BAFABDE3126393BCC3223CD8E4CC4357|0.0        |\n",
      "|CAD49D67597014716A38959F12472F2485039D65|0.0        |\n",
      "|D24400AE8BFEBB18CA49BE86258A3C749CF46853|71.59      |\n",
      "|EF0257A1DBF0228E336A33E0BDC2481A453EF675|20.45      |\n",
      "|F9A7385B56A13584098D727C2694790513E3FE81|34.09      |\n",
      "+----------------------------------------+-----------+\n",
      "only showing top 20 rows\n",
      "\n"
     ]
    },
    {
     "name": "stderr",
     "output_type": "stream",
     "text": [
      "                                                                                "
     ]
    }
   ],
   "source": [
    "final_with_flags = apply_fraud_rules(final_features, df)\n",
    "final_with_flags.select(\"from_address\", \"fraud_score\").show(truncate=False)"
   ]
  },
  {
   "cell_type": "code",
   "execution_count": 126,
   "id": "664fc76b-30c3-4036-a89d-41e3f77f9084",
   "metadata": {},
   "outputs": [],
   "source": [
    "distribution = final_with_flags.groupBy(\"fraud_score\").count().orderBy(\"fraud_score\")"
   ]
  },
  {
   "cell_type": "code",
   "execution_count": 127,
   "id": "d7f1de0b-57fa-454d-8a19-12e736f1ee42",
   "metadata": {},
   "outputs": [
    {
     "name": "stderr",
     "output_type": "stream",
     "text": [
      "[Stage 1208:====================================================> (26 + 1) / 27]"
     ]
    },
    {
     "name": "stdout",
     "output_type": "stream",
     "text": [
      "+-----------+-------+\n",
      "|fraud_score|  count|\n",
      "+-----------+-------+\n",
      "|        0.0|2295362|\n",
      "|      11.36|  80650|\n",
      "|      17.05|   4453|\n",
      "|      20.45| 189097|\n",
      "|      22.73| 442439|\n",
      "|      28.41|   9651|\n",
      "|      31.82|  13230|\n",
      "|      34.09|  80066|\n",
      "|       37.5|   4959|\n",
      "|      39.77|   1636|\n",
      "|      43.18|  82912|\n",
      "|      45.45|    513|\n",
      "|      48.86|  23255|\n",
      "|      51.14|   5020|\n",
      "|      54.55|   5521|\n",
      "|      56.82|    143|\n",
      "|      60.23|   2513|\n",
      "|       62.5|   1268|\n",
      "|      65.91|    769|\n",
      "|      68.18|      1|\n",
      "+-----------+-------+\n",
      "only showing top 20 rows\n",
      "\n"
     ]
    },
    {
     "name": "stderr",
     "output_type": "stream",
     "text": [
      "                                                                                "
     ]
    }
   ],
   "source": [
    "distribution.show()"
   ]
  },
  {
   "cell_type": "code",
   "execution_count": 128,
   "id": "afa1073e-66f7-47da-b76a-790bc19ce16d",
   "metadata": {},
   "outputs": [
    {
     "name": "stdout",
     "output_type": "stream",
     "text": [
      "root\n",
      " |-- from_address: string (nullable = true)\n",
      " |-- contracts_and_low_activity: integer (nullable = false)\n",
      " |-- high_fee: integer (nullable = false)\n",
      " |-- short_time_between_tx: integer (nullable = false)\n",
      " |-- value_spikes: integer (nullable = false)\n",
      " |-- pingpong: integer (nullable = false)\n",
      " |-- fraud_score: double (nullable = true)\n",
      "\n"
     ]
    }
   ],
   "source": [
    "final_with_flags.printSchema()"
   ]
  },
  {
   "cell_type": "code",
   "execution_count": 129,
   "id": "2069059a-1844-44dc-8a66-976eecfd4e61",
   "metadata": {},
   "outputs": [
    {
     "name": "stdout",
     "output_type": "stream",
     "text": [
      "Распределение значений в столбце 'contracts_and_low_activity':\n"
     ]
    },
    {
     "name": "stderr",
     "output_type": "stream",
     "text": [
      "                                                                                "
     ]
    },
    {
     "name": "stdout",
     "output_type": "stream",
     "text": [
      "+--------------------------+-------+\n",
      "|contracts_and_low_activity|  count|\n",
      "+--------------------------+-------+\n",
      "|                         0|2626225|\n",
      "|                         1| 625714|\n",
      "+--------------------------+-------+\n",
      "\n",
      "Распределение значений в столбце 'high_fee':\n"
     ]
    },
    {
     "name": "stderr",
     "output_type": "stream",
     "text": [
      "                                                                                "
     ]
    },
    {
     "name": "stdout",
     "output_type": "stream",
     "text": [
      "+--------+-------+\n",
      "|high_fee|  count|\n",
      "+--------+-------+\n",
      "|       0|3064691|\n",
      "|       1| 187248|\n",
      "+--------+-------+\n",
      "\n",
      "Распределение значений в столбце 'short_time_between_tx':\n"
     ]
    },
    {
     "name": "stderr",
     "output_type": "stream",
     "text": [
      "                                                                                "
     ]
    },
    {
     "name": "stdout",
     "output_type": "stream",
     "text": [
      "+---------------------+-------+\n",
      "|short_time_between_tx|  count|\n",
      "+---------------------+-------+\n",
      "|                    0|3239249|\n",
      "|                    1|  12690|\n",
      "+---------------------+-------+\n",
      "\n",
      "Распределение значений в столбце 'value_spikes':\n"
     ]
    },
    {
     "name": "stderr",
     "output_type": "stream",
     "text": [
      "                                                                                "
     ]
    },
    {
     "name": "stdout",
     "output_type": "stream",
     "text": [
      "+------------+-------+\n",
      "|value_spikes|  count|\n",
      "+------------+-------+\n",
      "|           0|2921202|\n",
      "|           1| 330737|\n",
      "+------------+-------+\n",
      "\n",
      "Распределение значений в столбце 'pingpong':\n"
     ]
    },
    {
     "name": "stderr",
     "output_type": "stream",
     "text": [
      "                                                                                "
     ]
    },
    {
     "name": "stdout",
     "output_type": "stream",
     "text": [
      "+--------+-------+\n",
      "|pingpong|  count|\n",
      "+--------+-------+\n",
      "|       0|3200419|\n",
      "|       1|  51520|\n",
      "+--------+-------+\n",
      "\n"
     ]
    }
   ],
   "source": [
    "features = [\"contracts_and_low_activity\",\"high_fee\",\"short_time_between_tx\",\"value_spikes\", \"pingpong\"]\n",
    "for feature in features:\n",
    "    print(f\"Распределение значений в столбце '{feature}':\")\n",
    "    final_with_flags.groupBy(feature).count().orderBy(feature).show()"
   ]
  },
  {
   "cell_type": "code",
   "execution_count": 133,
   "id": "d362f1f0-5fbf-45cd-8c2a-3880b9c325c8",
   "metadata": {},
   "outputs": [],
   "source": [
    "import matplotlib.pyplot as plt"
   ]
  },
  {
   "cell_type": "code",
   "execution_count": 137,
   "id": "f43d7eb1-3fe6-4f05-9a83-a57877ea007f",
   "metadata": {},
   "outputs": [
    {
     "name": "stderr",
     "output_type": "stream",
     "text": [
      "                                                                                "
     ]
    },
    {
     "data": {
      "image/png": "[encoded data removed]",
      "text/plain": [
       "<Figure size 640x480 with 1 Axes>"
      ]
     },
     "metadata": {},
     "output_type": "display_data"
    }
   ],
   "source": [
    "scores = [row['fraud_score'] for row in final_with_flags.select(\"fraud_score\").collect()]\n",
    "\n",
    "plt.figure()\n",
    "plt.hist(scores, bins=20)          \n",
    "plt.xlabel(\"fraud_score\")\n",
    "plt.ylabel(\"count\")\n",
    "plt.title(\"Гистограмма fraud_score\")\n",
    "plt.tight_layout()\n",
    "plt.show()"
   ]
  },
  {
   "cell_type": "code",
   "execution_count": 139,
   "id": "9da4d3fb-8208-46e1-96d0-53fc377f08ab",
   "metadata": {},
   "outputs": [
    {
     "name": "stderr",
     "output_type": "stream",
     "text": [
      "                                                                                "
     ]
    },
    {
     "data": {
      "image/png": "[encoded data removed]",
      "text/plain": [
       "<Figure size 1200x1200 with 6 Axes>"
      ]
     },
     "metadata": {},
     "output_type": "display_data"
    }
   ],
   "source": [
    "import matplotlib.pyplot as plt\n",
    "\n",
    "# Список признаков\n",
    "features = [\n",
    "    \"contracts_and_low_activity\",\n",
    "    \"high_fee\",\n",
    "    \"short_time_between_tx\",\n",
    "    \"value_spikes\",\n",
    "    \"pingpong\"\n",
    "]\n",
    "\n",
    "# Дополнительно можно сделать гистограмму fraud_score как шестой график\n",
    "# Собираем все scores в список\n",
    "scores = [row['fraud_score'] for row in final_with_flags.select(\"fraud_score\").collect()]\n",
    "\n",
    "# Создаём сетку 3×2\n",
    "fig, axes = plt.subplots(3, 2, figsize=(12, 12))\n",
    "axes = axes.flatten()\n",
    "\n",
    "# 1) Гистограмма fraud_score\n",
    "axes[0].hist(scores, bins=20)\n",
    "axes[0].set_title(\"Распределение fraud_score\")\n",
    "axes[0].set_xlabel(\"fraud_score\")\n",
    "axes[0].set_ylabel(\"count\")\n",
    "\n",
    "# 2–6) Бар‑графики для каждого бинарного признака\n",
    "for i, feature in enumerate(features, start=1):\n",
    "    rows = final_with_flags.groupBy(feature) \\\n",
    "        .count() \\\n",
    "        .orderBy(feature) \\\n",
    "        .collect()\n",
    "    vals = [str(row[feature]) for row in rows]\n",
    "    cnts = [row['count'] for row in rows]\n",
    "    \n",
    "    axes[i].bar(vals, cnts)\n",
    "    axes[i].set_title(f\"Распределение {feature}\")\n",
    "    axes[i].set_xlabel(feature)\n",
    "    axes[i].set_ylabel(\"count\")\n",
    "\n",
    "if len(features) + 1 < len(axes):\n",
    "    axes[-1].axis('off')\n",
    "\n",
    "plt.tight_layout()\n",
    "plt.show()"
   ]
  },
  {
   "cell_type": "code",
   "execution_count": null,
   "id": "64d87e4a-d3a9-4843-bbbe-04665c418bd6",
   "metadata": {},
   "outputs": [],
   "source": []
  }
 ],
 "metadata": {
  "kernelspec": {
   "display_name": "Python 3 (ipykernel)",
   "language": "python",
   "name": "python3"
  },
  "language_info": {
   "codemirror_mode": {
    "name": "ipython",
    "version": 3
   },
   "file_extension": ".py",
   "mimetype": "text/x-python",
   "name": "python",
   "nbconvert_exporter": "python",
   "pygments_lexer": "ipython3",
   "version": "3.9.21"
  }
 },
 "nbformat": 4,
 "nbformat_minor": 5
}
