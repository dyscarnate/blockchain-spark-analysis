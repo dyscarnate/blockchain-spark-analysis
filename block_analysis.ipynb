{
 "cells": [
  {
   "cell_type": "code",
   "execution_count": 36,
   "id": "9a532935-47e0-482a-a3ec-3be3427d2e0c",
   "metadata": {},
   "outputs": [],
   "source": [
    "from pyspark.sql.functions import col, lag, unix_timestamp, avg, min, max, median\n",
    "from pyspark.sql.window import Window"
   ]
  },
  {
   "cell_type": "code",
   "execution_count": 29,
   "id": "2736108b-ea0e-4482-afba-89b537746284",
   "metadata": {},
   "outputs": [],
   "source": [
    "data_path = \"/work/samsung/data/blocks\"\n",
    "blocks_df = spark.read.parquet(data_path)"
   ]
  },
  {
   "cell_type": "code",
   "execution_count": 30,
   "id": "6bdfea8f-3491-42d9-ab0c-b1925fe75087",
   "metadata": {},
   "outputs": [
    {
     "name": "stdout",
     "output_type": "stream",
     "text": [
      "+--------------------+--------------------+------------+--------+--------------------+----------+----------------+--------+\n",
      "|          block_hash|              author|block_number|gas_used|          extra_data| timestamp|base_fee_per_gas|chain_id|\n",
      "+--------------------+--------------------+------------+--------+--------------------+----------+----------------+--------+\n",
      "|[C5 FD 92 68 93 8...|[95 22 22 90 DD 7...|    21181452| 9861510|[62 65 61 76 65 7...|1731533231|     67853586232|       1|\n",
      "|[86 D3 F7 66 04 7...|[48 38 B1 06 FC E...|    21181453|13637078|[54 69 74 61 6E 2...|1731533243|     64948044780|       1|\n",
      "|[87 C7 B5 F5 B7 5...|[95 22 22 90 DD 7...|    21181454|14187397|[62 65 61 76 65 7...|1731533255|     64210385455|       1|\n",
      "|[EF 3A 49 FA C2 3...|[48 38 B1 06 FC E...|    21181455|12210092|[54 69 74 61 6E 2...|1731533267|     63775572523|       1|\n",
      "|[AE AA EE F2 9B A...|[48 38 B1 06 FC E...|    21181456|14737857|[54 69 74 61 6E 2...|1731533279|     62292839357|       1|\n",
      "|[61 F6 DA 6D 33 A...|[1F 90 90 AA E2 8...|    21181457|15736342|[40 72 73 79 6E 6...|1731533291|     62156759093|       1|\n",
      "|[CB 38 A2 AE E1 C...|[48 38 B1 06 FC E...|    21181458|12112749|[54 69 74 61 6E 2...|1731533303|     62538164362|       1|\n",
      "|[14 14 D8 04 24 D...|[48 38 B1 06 FC E...|    21181459|13345219|[54 69 74 61 6E 2...|1731533315|     61033469549|       1|\n",
      "|[82 3D 9A 5C ED 3...|[95 22 22 90 DD 7...|    21181460|18986862|[62 65 61 76 65 7...|1731533327|     60191827668|       1|\n",
      "|[BF 11 81 4B 2D 8...|[48 38 B1 06 FC E...|    21181461|15143057|[54 69 74 61 6E 2...|1731533339|     62191631921|       1|\n",
      "|[46 46 5F E4 42 8...|[95 22 22 90 DD 7...|    21181462|12758358|[62 65 61 76 65 7...|1731533351|     62265773156|       1|\n",
      "|[66 B8 85 90 34 6...|[95 22 22 90 DD 7...|    21181463|14012065|[62 65 61 76 65 7...|1731533363|     61102626721|       1|\n",
      "|[B2 A1 3A 8E 3B 2...|[95 22 22 90 DD 7...|    21181464|17832681|[62 65 61 76 65 7...|1731533375|     60599581525|       1|\n",
      "|[F7 5A 79 7D 67 3...|[48 38 B1 06 FC E...|    21181465|13245685|[54 69 74 61 6E 2...|1731533387|     62030075551|       1|\n",
      "|[12 06 0C 6F B1 1...|[95 22 22 90 DD 7...|    21181466|14766927|[62 65 61 76 65 7...|1731533399|     61123239785|       1|\n",
      "|[D6 31 72 0C AB 6...|[48 38 B1 06 FC E...|    21181467|29984525|[54 69 74 61 6E 2...|1731533411|     60997184133|       1|\n",
      "|[68 E0 A4 B6 15 D...|[48 38 B1 06 FC E...|    21181468|15134729|[54 69 74 61 6E 2...|1731533423|     68613966054|       1|\n",
      "|[47 DC 97 E5 96 5...|[48 38 B1 06 FC E...|    21181469|14223662|[54 69 74 61 6E 2...|1731533435|     68691001812|       1|\n",
      "|[A9 18 54 BC B5 E...|[48 38 B1 06 FC E...|    21181470|13618714|[54 69 74 61 6E 2...|1731533447|     68246606521|       1|\n",
      "|[1E 25 ED 67 BD E...|[48 38 B1 06 FC E...|    21181471|12631000|[54 69 74 61 6E 2...|1731533459|     67461039170|       1|\n",
      "+--------------------+--------------------+------------+--------+--------------------+----------+----------------+--------+\n",
      "only showing top 20 rows\n",
      "\n",
      "root\n",
      " |-- block_hash: binary (nullable = true)\n",
      " |-- author: binary (nullable = true)\n",
      " |-- block_number: long (nullable = true)\n",
      " |-- gas_used: decimal(20,0) (nullable = true)\n",
      " |-- extra_data: binary (nullable = true)\n",
      " |-- timestamp: long (nullable = true)\n",
      " |-- base_fee_per_gas: decimal(20,0) (nullable = true)\n",
      " |-- chain_id: decimal(20,0) (nullable = true)\n",
      "\n"
     ]
    }
   ],
   "source": [
    "blocks_df.show(20)  \n",
    "blocks_df.printSchema()  "
   ]
  },
  {
   "cell_type": "code",
   "execution_count": 31,
   "id": "04b370d3-c59c-4e9f-a7e8-42c62ac28198",
   "metadata": {},
   "outputs": [],
   "source": [
    "blocks_df = blocks_df.withColumn(\"timestamp\", (col(\"timestamp\").cast(\"timestamp\")))"
   ]
  },
  {
   "cell_type": "code",
   "execution_count": 32,
   "id": "b7aa10a3-f28a-4e93-9b56-cd15889155b1",
   "metadata": {},
   "outputs": [],
   "source": [
    "window_spec = Window.orderBy(\"timestamp\")\n",
    "blocks_df = blocks_df.withColumn(\"time_diff\", \n",
    "    col(\"timestamp\").cast(\"long\") - lag(\"timestamp\").over(window_spec).cast(\"long\")\n",
    ")"
   ]
  },
  {
   "cell_type": "code",
   "execution_count": 45,
   "id": "c27ee2c7-3aaa-4e8a-bd02-d7ce02bc94e4",
   "metadata": {},
   "outputs": [
    {
     "name": "stdout",
     "output_type": "stream",
     "text": [
      "mean time between blocks: 56.273475782526084 seconds\n"
     ]
    },
    {
     "name": "stderr",
     "output_type": "stream",
     "text": [
      "25/03/15 00:18:15 WARN WindowExec: No Partition Defined for Window operation! Moving all data to a single partition, this can cause serious performance degradation.\n",
      "25/03/15 00:18:15 WARN WindowExec: No Partition Defined for Window operation! Moving all data to a single partition, this can cause serious performance degradation.\n",
      "25/03/15 00:18:15 WARN WindowExec: No Partition Defined for Window operation! Moving all data to a single partition, this can cause serious performance degradation.\n",
      "25/03/15 00:18:15 WARN WindowExec: No Partition Defined for Window operation! Moving all data to a single partition, this can cause serious performance degradation.\n"
     ]
    }
   ],
   "source": [
    "avg_block_time = blocks_df.select(avg(\"time_diff\")).collect()[0][0]\n",
    "print(f\"mean time between blocks: {avg_block_time} seconds\")"
   ]
  },
  {
   "cell_type": "code",
   "execution_count": 37,
   "id": "29940d53-0a35-4915-95bd-02e8b5622105",
   "metadata": {},
   "outputs": [],
   "source": [
    "gas_stats = blocks_df.select(\n",
    "    max(\"gas_used\").alias(\"max_gas_used\"),\n",
    "    min(\"gas_used\").alias(\"min_gas_used\"),\n",
    "    avg(\"gas_used\").alias(\"avg_gas_used\"),\n",
    "    median(\"gas_used\").alias(\"median_gas_used\")\n",
    ").collect()[0]"
   ]
  },
  {
   "cell_type": "code",
   "execution_count": 41,
   "id": "2248b775-a479-44cc-b5b6-0d8a13feab9f",
   "metadata": {},
   "outputs": [
    {
     "name": "stdout",
     "output_type": "stream",
     "text": [
      "max gas used: 30057615\n",
      "min gas used: 0\n",
      "mean gas used: 15117197.1897\n",
      "median gas used: 14470383.0\n"
     ]
    }
   ],
   "source": [
    "print(f\"max gas used: {gas_stats['max_gas_used']}\")\n",
    "print(f\"min gas used: {gas_stats['min_gas_used']}\")\n",
    "print(f\"mean gas used: {gas_stats['avg_gas_used']}\")\n",
    "print(f\"median gas used: {gas_stats['median_gas_used']}\")"
   ]
  },
  {
   "cell_type": "code",
   "execution_count": 44,
   "id": "88c2a8cc-d63b-4596-8c82-b6176adf4184",
   "metadata": {},
   "outputs": [
    {
     "name": "stdout",
     "output_type": "stream",
     "text": [
      "+--------------------+-----------+\n",
      "|              author|block_count|\n",
      "+--------------------+-----------+\n",
      "|[95 22 22 90 DD 7...|      13945|\n",
      "|[48 38 B1 06 FC E...|      12431|\n",
      "|[1F 90 90 AA E2 8...|        947|\n",
      "|[38 8C 81 8C A8 B...|        860|\n",
      "|[DF 99 A0 83 98 1...|        158|\n",
      "|[7E 2A 2F A2 A0 6...|        115|\n",
      "|[DA DB 0D 80 17 8...|         64|\n",
      "|[98 ED 2D 46 A2 7...|         48|\n",
      "|[E6 88 B8 4B 23 F...|         45|\n",
      "|[7A DC 0E 86 7E B...|         41|\n",
      "+--------------------+-----------+\n",
      "only showing top 10 rows\n",
      "\n"
     ]
    }
   ],
   "source": [
    "from pyspark.sql.functions import count\n",
    "\n",
    "top_authors = blocks_df.groupBy(\"author\").agg(\n",
    "    count(\"*\").alias(\"block_count\")\n",
    ").orderBy(col(\"block_count\").desc())\n",
    "\n",
    "top_authors.show(10)"
   ]
  },
  {
   "cell_type": "code",
   "execution_count": null,
   "id": "1e1df792-228d-4f9b-adbd-ad04b7b3fcb5",
   "metadata": {},
   "outputs": [],
   "source": []
  }
 ],
 "metadata": {
  "kernelspec": {
   "display_name": "Python 3 (ipykernel)",
   "language": "python",
   "name": "python3"
  },
  "language_info": {
   "codemirror_mode": {
    "name": "ipython",
    "version": 3
   },
   "file_extension": ".py",
   "mimetype": "text/x-python",
   "name": "python",
   "nbconvert_exporter": "python",
   "pygments_lexer": "ipython3",
   "version": "3.9.21"
  }
 },
 "nbformat": 4,
 "nbformat_minor": 5
}
